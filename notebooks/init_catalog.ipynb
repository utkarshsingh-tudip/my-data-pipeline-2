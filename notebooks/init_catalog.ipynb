{
 "cells": [
  {
   "cell_type": "code",
   "execution_count": null,
   "metadata": {
    "vscode": {
     "languageId": "plaintext"
    }
   },
   "outputs": [],
   "source": [
    "# Databricks notebook source\n",
    "# COMMAND ----------\n",
    "\n",
    "# Get variables from bundle\n",
    "dbutils.widgets.text(\"catalog\", \"\")\n",
    "catalog = dbutils.widgets.get(\"catalog\")\n",
    "\n",
    "# COMMAND ----------\n",
    "\n",
    "# Create catalog and schemas\n",
    "spark.sql(f\"CREATE CATALOG IF NOT EXISTS {catalog}\")\n",
    "\n",
    "# COMMAND ----------\n",
    "\n",
    "spark.sql(f\"CREATE SCHEMA IF NOT EXISTS {catalog}.bronze\")\n",
    "spark.sql(f\"CREATE SCHEMA IF NOT EXISTS {catalog}.silver\") \n",
    "spark.sql(f\"CREATE SCHEMA IF NOT EXISTS {catalog}.gold\")\n",
    "\n",
    "# COMMAND ----------\n",
    "\n",
    "# List created schemas\n",
    "display(spark.sql(f\"SHOW SCHEMAS IN {catalog}\"))"
   ]
  }
 ],
 "metadata": {
  "language_info": {
   "name": "python"
  }
 },
 "nbformat": 4,
 "nbformat_minor": 2
}
