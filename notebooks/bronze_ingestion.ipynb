{
 "cells": [
  {
   "cell_type": "code",
   "execution_count": null,
   "metadata": {
    "vscode": {
     "languageId": "plaintext"
    }
   },
   "outputs": [],
   "source": [
    "from pyspark.sql import SparkSession\n",
    "from pyspark.sql.types import StructType, StructField, IntegerType, StringType, TimestampType\n",
    "from datetime import datetime\n",
    "dbutils.widgets.text(\"catalog\", \"\")\n",
    "catalog = dbutils.widgets.get(\"catalog\")\n",
    "spark = SparkSession.builder.getOrCreate()\n",
    "\n",
    "data = [\n",
    "    {\"event_id\": 1, \"event_type\": \"click\", \"user_id\": \"u1\", \"ts\": \"2025-10-01T12:00:00\"},\n",
    "    {\"event_id\": 2, \"event_type\": \"view\", \"user_id\": \"u2\", \"ts\": \"2025-10-01T12:05:00\"},\n",
    "    {\"event_id\": 3, \"event_type\": \"click\", \"user_id\": \"u1\", \"ts\": \"2025-10-01T12:10:00\"},\n",
    "    {\"event_id\": 4, \"event_type\": \"purchase\", \"user_id\": \"u3\", \"ts\": \"2025-10-01T12:15:00\"},\n",
    "    {\"event_id\": 3, \"event_type\": \"click\", \"user_id\": \"u1\", \"ts\": \"2025-10-01T12:10:00\"},\n",
    "    {\"event_id\": None, \"event_type\": \"view\", \"user_id\": \"u4\", \"ts\": \"2025-10-01T12:20:00\"}\n",
    "]\n",
    "\n",
    "schema = StructType([\n",
    "    StructField(\"event_id\", IntegerType(), True),\n",
    "    StructField(\"event_type\", StringType(), True),\n",
    "    StructField(\"user_id\", StringType(), True),\n",
    "    StructField(\"ts\", StringType(), True)\n",
    "])\n",
    "\n",
    "raw_df = spark.createDataFrame(data, schema=schema)\n",
    "\n",
    "raw_df.write.format(\"delta\").mode(\"overwrite\").saveAsTable(\"{catalog}.bronze.events\")\n",
    "\n",
    "print(\"Bronze table created: {catalog}.bronze.events\")\n"
   ]
  }
 ],
 "metadata": {
  "language_info": {
   "name": "python"
  }
 },
 "nbformat": 4,
 "nbformat_minor": 2
}
