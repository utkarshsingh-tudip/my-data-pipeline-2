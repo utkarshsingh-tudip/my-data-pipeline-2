{
 "cells": [
  {
   "cell_type": "code",
   "execution_count": null,
   "metadata": {
    "vscode": {
     "languageId": "plaintext"
    }
   },
   "outputs": [],
   "source": [
    "from pyspark.sql import SparkSession\n",
    "\n",
    "spark = SparkSession.builder.getOrCreate()\n",
    "\n",
    "# Load Bronze\n",
    "bronze_df = spark.table(\"analytics.bronze.events\")\n",
    "\n",
    "# Deduplicate + filter invalid rows\n",
    "silver_df = (\n",
    "    bronze_df\n",
    "    .dropDuplicates([\"event_id\", \"user_id\"])\n",
    "    .filter(\"event_id IS NOT NULL\")\n",
    ")\n",
    "\n",
    "# Write as managed Delta table\n",
    "silver_df.write.format(\"delta\").mode(\"overwrite\").saveAsTable(\"analytics.silver.events_cleaned\")\n",
    "\n",
    "print(\"✅ Silver table created: analytics.silver.events_cleaned\")\n"
   ]
  }
 ],
 "metadata": {
  "language_info": {
   "name": "python"
  }
 },
 "nbformat": 4,
 "nbformat_minor": 2
}
