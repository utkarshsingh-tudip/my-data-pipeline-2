{
 "cells": [
  {
   "cell_type": "code",
   "execution_count": null,
   "metadata": {
    "vscode": {
     "languageId": "plaintext"
    }
   },
   "outputs": [],
   "source": [
    "from pyspark.sql import SparkSession\n",
    "\n",
    "spark = SparkSession.builder.getOrCreate()\n",
    "dbutils.widgets.text(\"catalog\", \"\")\n",
    "catalog = dbutils.widgets.get(\"catalog\")\n",
    "\n",
    "bronze_df = spark.table(f\"{catalog}.bronze.events\")\n",
    "\n",
    "silver_df = (\n",
    "    bronze_df\n",
    "    .dropDuplicates([\"event_id\", \"user_id\"])\n",
    "    .filter(\"event_id IS NOT NULL\")\n",
    ")\n",
    "silver_df.write.format(\"delta\").mode(\"overwrite\").saveAsTable(f\"{catalog}.silver.events_cleaned\")\n",
    "\n",
    "print(f\"Silver table created: {catalog}.silver.events_cleaned\")\n"
   ]
  }
 ],
 "metadata": {
  "language_info": {
   "name": "python"
  }
 },
 "nbformat": 4,
 "nbformat_minor": 2
}
