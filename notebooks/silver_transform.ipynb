{
 "cells": [
  {
   "cell_type": "code",
   "execution_count": null,
   "metadata": {
    "vscode": {
     "languageId": "plaintext"
    }
   },
   "outputs": [],
   "source": [
    "from pyspark.sql import SparkSession\n",
    "\n",
    "spark = SparkSession.builder.getOrCreate()\n",
    "dbutils.widgets.text(\"catalog\", \"\")\n",
    "catalog = dbutils.widgets.get(\"catalog\")\n",
    "\n",
    "bronze_df = spark.table(\"{catalog}.bronze.events\")\n",
    "\n",
    "silver_df = (\n",
    "    bronze_df\n",
    "    .dropDuplicates([\"event_id\", \"user_id\"])\n",
    "    .filter(\"event_id IS NOT NULL\")\n",
    ")\n",
    "\n",
    "silver_df.write.format(\"delta\").mode(\"overwrite\").saveAsTable(\"{catalog}.silver.events_cleaned\")\n",
    "\n",
    "print(\"Silver table created: {catalog}.silver.events_cleaned\")\n"
   ]
  }
 ],
 "metadata": {
  "language_info": {
   "name": "python"
  }
 },
 "nbformat": 4,
 "nbformat_minor": 2
}
