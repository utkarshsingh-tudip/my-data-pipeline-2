{
 "cells": [
  {
   "cell_type": "code",
   "execution_count": null,
   "metadata": {
    "vscode": {
     "languageId": "plaintext"
    }
   },
   "outputs": [],
   "source": [
    "from pyspark.sql import SparkSession\n",
    "\n",
    "spark = SparkSession.builder.getOrCreate()\n",
    "dbutils.widgets.text(\"catalog\", \"\")\n",
    "catalog = dbutils.widgets.get(\"catalog\")\n",
    "\n",
    "silver_df = spark.table(\"{catalog}.silver.events_cleaned\")\n",
    "\n",
    "gold_df = silver_df.groupBy(\"event_type\").count()\n",
    "\n",
    "gold_df.write.format(\"delta\").mode(\"overwrite\").saveAsTable(\"{catalog}.gold.events_summary\")\n",
    "\n",
    "print(\"Gold table created: {catalog}.gold.events_summary\")\n"
   ]
  }
 ],
 "metadata": {
  "language_info": {
   "name": "python"
  }
 },
 "nbformat": 4,
 "nbformat_minor": 2
}
