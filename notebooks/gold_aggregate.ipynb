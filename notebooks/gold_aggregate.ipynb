{
 "cells": [
  {
   "cell_type": "code",
   "execution_count": null,
   "metadata": {
    "vscode": {
     "languageId": "plaintext"
    }
   },
   "outputs": [],
   "source": [
    "from pyspark.sql import SparkSession\n",
    "\n",
    "spark = SparkSession.builder.getOrCreate()\n",
    "\n",
    "# Load Silver\n",
    "silver_df = spark.table(\"analytics.silver.events_cleaned\")\n",
    "\n",
    "# Aggregate: count by event_type\n",
    "gold_df = silver_df.groupBy(\"event_type\").count()\n",
    "\n",
    "# Write as managed Delta table\n",
    "gold_df.write.format(\"delta\").mode(\"overwrite\").saveAsTable(\"analytics.gold.events_summary\")\n",
    "\n",
    "print(\"✅ Gold table created: analytics.gold.events_summary\")\n"
   ]
  }
 ],
 "metadata": {
  "language_info": {
   "name": "python"
  }
 },
 "nbformat": 4,
 "nbformat_minor": 2
}
